{
 "cells": [
  {
   "cell_type": "code",
   "execution_count": 45,
   "metadata": {},
   "outputs": [],
   "source": [
    "import os, re\n",
    "import pandas as pd\n",
    "\n",
    "columns = [\n",
    "    'intent',\n",
    "    'train_phrases',\n",
    "    'responses',\n",
    "    'entities',\n",
    "    'contexts',\n",
    "    'followup_intents'\n",
    "]\n",
    "\n",
    "def process(path, sheet_name, columns, skiprows=0):\n",
    "#     path = f'{data_dir}/{filename}'\n",
    "\n",
    "    mapping = (\n",
    "        ('train_phrases', sanitize_train_phrases),\n",
    "        ('responses', sanitize_responses)\n",
    "    )\n",
    "\n",
    "    if not os.path.isfile(path):\n",
    "        raise ValueError('File not found')\n",
    "    \n",
    "    data = pd.read_excel(path, sheet_name, skiprows)\n",
    "    # data = data.iloc[:, :len(columns)]\n",
    "    data.columns = columns\n",
    "\n",
    "    for col, func in mapping:\n",
    "        data.loc[:, col] = data.loc[:, col].map(func)\n",
    "\n",
    "    return data\n",
    "\n",
    "\n",
    "def sanitize_train_phrases(train_phrases):\n",
    "    if isinstance(train_phrases, str):\n",
    "        return tuple(map(sanitize_train_phrase, train_phrases.strip().split('\\n')))\n",
    "    else:\n",
    "        return ()\n",
    "\n",
    "\n",
    "def sanitize_train_phrase(train_phrase):\n",
    "    return re.sub(r'[\\?!\\.]', '', train_phrase.lower())\n",
    "\n",
    "\n",
    "def sanitize_responses(responses):\n",
    "    if isinstance(responses, str):\n",
    "        return tuple(response.strip().split('\\n') for response in responses.split('&&'))\n",
    "    else:\n",
    "        return ()"
   ]
  },
  {
   "cell_type": "code",
   "execution_count": 46,
   "metadata": {},
   "outputs": [],
   "source": [
    "path = '../data/intents.xlsx'\n",
    "data = process(path, 'en', columns)"
   ]
  },
  {
   "cell_type": "code",
   "execution_count": 47,
   "metadata": {},
   "outputs": [
    {
     "data": {
      "text/plain": [
       "(['Yes $user_title'],\n",
       " [\"I'm here $user_title\", 'How can I help'],\n",
       " ['I am here $user_title'],\n",
       " ['Good morning $user_title'],\n",
       " ['Good evening $user_title'])"
      ]
     },
     "execution_count": 47,
     "metadata": {},
     "output_type": "execute_result"
    }
   ],
   "source": [
    "data.loc[0, 'responses']"
   ]
  },
  {
   "cell_type": "code",
   "execution_count": null,
   "metadata": {},
   "outputs": [],
   "source": []
  }
 ],
 "metadata": {
  "kernelspec": {
   "display_name": "Python 3",
   "language": "python",
   "name": "python3"
  },
  "language_info": {
   "codemirror_mode": {
    "name": "ipython",
    "version": 3
   },
   "file_extension": ".py",
   "mimetype": "text/x-python",
   "name": "python",
   "nbconvert_exporter": "python",
   "pygments_lexer": "ipython3",
   "version": "3.7.5"
  }
 },
 "nbformat": 4,
 "nbformat_minor": 2
}
